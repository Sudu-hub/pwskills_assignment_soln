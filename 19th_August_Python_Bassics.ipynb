{
 "cells": [
  {
   "cell_type": "markdown",
   "id": "33c9440c",
   "metadata": {},
   "source": [
    "# Python Basic Variable"
   ]
  },
  {
   "cell_type": "markdown",
   "id": "985d868c",
   "metadata": {},
   "source": [
    "# 1.Declare two variables, `x` and `y`, and assign them integer values.Swap the values of these vari ables without using any temporary variable."
   ]
  },
  {
   "cell_type": "code",
   "execution_count": 1,
   "id": "7bdf1b83",
   "metadata": {},
   "outputs": [
    {
     "name": "stdout",
     "output_type": "stream",
     "text": [
      "Assign 1st Integer value:12\n",
      "Assign 2nd Integer value:14\n",
      "The x value is : 14\n",
      "The y value is : 12\n"
     ]
    }
   ],
   "source": [
    "x = int(input('Assign 1st Integer value:'))\n",
    "y = int(input('Assign 2nd Integer value:'))\n",
    "x,y = y,x\n",
    "print('The x value is :',x)\n",
    "print('The y value is :',y)"
   ]
  },
  {
   "cell_type": "markdown",
   "id": "00a9ccbe",
   "metadata": {},
   "source": [
    "# 2. Create a program that calculates the area of a rectangle. Take the length and width as inputs from the user and store them in variables.Calculate and display the area."
   ]
  },
  {
   "cell_type": "code",
   "execution_count": 2,
   "id": "d65ee049",
   "metadata": {},
   "outputs": [
    {
     "name": "stdout",
     "output_type": "stream",
     "text": [
      "the length of the rectangle:12\n",
      "the width of the rectangle:8\n",
      "The Area of rectangle is: 96\n"
     ]
    }
   ],
   "source": [
    "length = int(input('the length of the rectangle:'))\n",
    "width = int(input('the width of the rectangle:'))\n",
    "\n",
    "Area = length * width\n",
    "\n",
    "print('The Area of rectangle is:',Area)"
   ]
  },
  {
   "cell_type": "markdown",
   "id": "6d56b2aa",
   "metadata": {},
   "source": [
    "# 3. Write a Python program that converts temperature from Celsius to Fahrenheit. Take the temperature in Celsius as input, store it in avariable, convert it to Fahrenheit and display the result."
   ]
  },
  {
   "cell_type": "code",
   "execution_count": 3,
   "id": "a823f384",
   "metadata": {},
   "outputs": [
    {
     "name": "stdout",
     "output_type": "stream",
     "text": [
      "The temprature from celsius is:30\n",
      "the temprature in Fahrenheit is a: 86.0\n"
     ]
    }
   ],
   "source": [
    "Temp = int(input('The temprature from celsius is:'))\n",
    "\n",
    "Fahrenheit = (Temp * 9/5) + 32\n",
    "print(\"the temprature in Fahrenheit is a:\",Fahrenheit)"
   ]
  },
  {
   "cell_type": "markdown",
   "id": "694fa761",
   "metadata": {},
   "source": [
    "# String Based Question"
   ]
  },
  {
   "cell_type": "markdown",
   "id": "9da49bf6",
   "metadata": {},
   "source": [
    "# 1. Write a Python program that takes a string as input and prints the length of the string."
   ]
  },
  {
   "cell_type": "code",
   "execution_count": 4,
   "id": "d8d00477",
   "metadata": {},
   "outputs": [
    {
     "name": "stdout",
     "output_type": "stream",
     "text": [
      "pwskill\n",
      "7\n"
     ]
    }
   ],
   "source": [
    "str = input()\n",
    "print(len(str))"
   ]
  },
  {
   "cell_type": "markdown",
   "id": "57ac9a82",
   "metadata": {},
   "source": [
    "# 2. Create a program that takes a sentence from the user and counts the number of vowels (a, e, i, o, u) in the string."
   ]
  },
  {
   "cell_type": "code",
   "execution_count": 5,
   "id": "5f7b91bb",
   "metadata": {},
   "outputs": [
    {
     "name": "stdout",
     "output_type": "stream",
     "text": [
      "The nomber of vowels in sentence is: 11\n"
     ]
    }
   ],
   "source": [
    "sentence = \"I am learning data science from pwskill\"\n",
    "\n",
    "a = sentence.count('a')\n",
    "e = sentence.count('e')\n",
    "i = sentence.count('i')\n",
    "o = sentence.count('o')\n",
    "u = sentence.count('u')\n",
    "\n",
    "print('The nomber of vowels in sentence is:',a+e+i+o+u)"
   ]
  },
  {
   "cell_type": "markdown",
   "id": "7f656597",
   "metadata": {},
   "source": [
    "# 3. Given a string, reverse the order of characters using string slicing and print the reversed string."
   ]
  },
  {
   "cell_type": "code",
   "execution_count": 6,
   "id": "6b735888",
   "metadata": {},
   "outputs": [
    {
     "name": "stdout",
     "output_type": "stream",
     "text": [
      "llikswp\n"
     ]
    }
   ],
   "source": [
    "str1 = 'pwskill'\n",
    "print(str1[::-1])"
   ]
  },
  {
   "cell_type": "markdown",
   "id": "d2e0ed3b",
   "metadata": {},
   "source": [
    "# 4. Write a program that takes a string as input and checks if it is a palindrome (reads the same forwards and backwards)."
   ]
  },
  {
   "cell_type": "code",
   "execution_count": 8,
   "id": "4fc07307",
   "metadata": {},
   "outputs": [
    {
     "name": "stdout",
     "output_type": "stream",
     "text": [
      "enter the name:nayan\n",
      "True\n"
     ]
    }
   ],
   "source": [
    "Name = input('enter the name:')\n",
    "\n",
    "rev = Name[::-1]\n",
    "print(rev == Name)"
   ]
  },
  {
   "cell_type": "markdown",
   "id": "ffc01996",
   "metadata": {},
   "source": [
    "# 5. Create a program that takes a string as input and removes all the spaces from it. Print the modified string without spaces."
   ]
  },
  {
   "cell_type": "code",
   "execution_count": 9,
   "id": "781df6cd",
   "metadata": {},
   "outputs": [
    {
     "name": "stdout",
     "output_type": "stream",
     "text": [
      "Iamlearningdatasciencefrompwskill\n"
     ]
    }
   ],
   "source": [
    "sentences = \"I am learning data science  from pwskill\"\n",
    "print(sentence.replace(' ',''))"
   ]
  },
  {
   "cell_type": "markdown",
   "id": "2520c573",
   "metadata": {},
   "source": [
    "# Thank You"
   ]
  }
 ],
 "metadata": {
  "kernelspec": {
   "display_name": "Python 3 (ipykernel)",
   "language": "python",
   "name": "python3"
  },
  "language_info": {
   "codemirror_mode": {
    "name": "ipython",
    "version": 3
   },
   "file_extension": ".py",
   "mimetype": "text/x-python",
   "name": "python",
   "nbconvert_exporter": "python",
   "pygments_lexer": "ipython3",
   "version": "3.11.4"
  }
 },
 "nbformat": 4,
 "nbformat_minor": 5
}
