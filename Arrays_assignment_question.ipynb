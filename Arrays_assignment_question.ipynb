{
 "cells": [
  {
   "cell_type": "markdown",
   "id": "4478b1a4",
   "metadata": {},
   "source": [
    "# Arrays"
   ]
  },
  {
   "cell_type": "raw",
   "id": "11213c2a",
   "metadata": {},
   "source": [
    "Assignment Questions"
   ]
  },
  {
   "cell_type": "markdown",
   "id": "1e5615e0",
   "metadata": {},
   "source": [
    "# 1. Given an array, check if it contains any duplicates or not.\n",
    "arr = [1, 2, 4, 2, 5, 9]\n",
    "Output = True"
   ]
  },
  {
   "cell_type": "code",
   "execution_count": 9,
   "id": "407ee56e",
   "metadata": {},
   "outputs": [
    {
     "data": {
      "text/plain": [
       "True"
      ]
     },
     "execution_count": 9,
     "metadata": {},
     "output_type": "execute_result"
    }
   ],
   "source": [
    "# Time complexity = O(n^2)\n",
    "# Space complexity = O(n)\n",
    "\n",
    "def duplicate(arr):\n",
    "    temp = []\n",
    "    for i in range(len(arr)):\n",
    "        if arr[i] in temp:\n",
    "            return True\n",
    "        temp.append(arr[i])\n",
    "    return False\n",
    "\n",
    "arr = [1, 2, 4, 2, 5, 9]\n",
    "duplicate(arr)"
   ]
  },
  {
   "cell_type": "raw",
   "id": "b6980b7b",
   "metadata": {},
   "source": [
    "Updated Function"
   ]
  },
  {
   "cell_type": "code",
   "execution_count": 11,
   "id": "70e7a1dd",
   "metadata": {},
   "outputs": [
    {
     "data": {
      "text/plain": [
       "True"
      ]
     },
     "execution_count": 11,
     "metadata": {},
     "output_type": "execute_result"
    }
   ],
   "source": [
    "# Time Complexity: O(n)\n",
    "# Space Complexity: O(n)\n",
    "\n",
    "\n",
    "def duplicate(arr):\n",
    "    s = set(arr)\n",
    "    if len(s) != len(arr):\n",
    "        return True\n",
    "    else:\n",
    "        return False\n",
    "    \n",
    "arr = [1, 2, 4,2, 5, 9]\n",
    "duplicate(arr)"
   ]
  },
  {
   "cell_type": "markdown",
   "id": "1c59fe8c",
   "metadata": {},
   "source": [
    "# 2. Given an array and an integer k, rotate the array to the right by k steps.\n",
    "arr = [1, 2, 3, 4, 5, 6, 7] k = 3\n",
    "Output = [5, 6, 7, 1, 2, 3, 4]"
   ]
  },
  {
   "cell_type": "code",
   "execution_count": 13,
   "id": "bab82685",
   "metadata": {},
   "outputs": [
    {
     "name": "stdout",
     "output_type": "stream",
     "text": [
      "[5, 6, 7, 1, 2, 3, 4]\n"
     ]
    }
   ],
   "source": [
    "def rotate_array(nums, k):\n",
    "    n = len(nums)\n",
    "    k = k % n\n",
    "    nums[:] = nums[-k:] + nums[:-k]\n",
    "\n",
    "nums = [1, 2, 3, 4, 5, 6, 7]\n",
    "k = 3\n",
    "rotate_array(nums, k)\n",
    "print(nums)"
   ]
  },
  {
   "cell_type": "markdown",
   "id": "39543049",
   "metadata": {},
   "source": [
    "# 3. Reverse the given array in-place, means without using any extra data structure.\n",
    "arr = [2, 4, 5, 7, 9, 12]\n",
    "Output = [12, 9, 7, 5, 4, 2]"
   ]
  },
  {
   "cell_type": "code",
   "execution_count": 14,
   "id": "6a6d68fd",
   "metadata": {},
   "outputs": [
    {
     "data": {
      "text/plain": [
       "[12, 9, 7, 5, 4, 2]"
      ]
     },
     "execution_count": 14,
     "metadata": {},
     "output_type": "execute_result"
    }
   ],
   "source": [
    "def reverses(arr):\n",
    "    return arr[::-1]\n",
    "\n",
    "arr = [2, 4, 5, 7, 9, 12]\n",
    "reverses(arr)"
   ]
  },
  {
   "cell_type": "markdown",
   "id": "6d452615",
   "metadata": {},
   "source": [
    "# 4. Given an array of integers, find the maximum element in an array\n",
    "arr = [10, 5, 20, 8, 15]\n",
    "Output = 20"
   ]
  },
  {
   "cell_type": "code",
   "execution_count": 18,
   "id": "76251b76",
   "metadata": {},
   "outputs": [
    {
     "data": {
      "text/plain": [
       "20"
      ]
     },
     "execution_count": 18,
     "metadata": {},
     "output_type": "execute_result"
    }
   ],
   "source": [
    "# Time complexity = O(n)\n",
    "# space complexity = O(1)\n",
    "\n",
    "def max_ele(arr):\n",
    "    temp = arr[0]\n",
    "    for i in range(len(arr)):\n",
    "        if arr[i] > temp:\n",
    "            temp = arr[i]\n",
    "    return temp\n",
    "\n",
    "arr = [10, 5, 20, 8, 15]\n",
    "max_ele(arr)"
   ]
  },
  {
   "cell_type": "markdown",
   "id": "56e28d08",
   "metadata": {},
   "source": [
    "# 5. Given a sorted array, remove the duplicate element without using any extra data structure.\n",
    "arr = [1, 1, 2, 2, 2, 3, 3, 4, 4, 4, 5, 5]\n",
    "Output = [1, 2, 3, 4, 5]"
   ]
  },
  {
   "cell_type": "code",
   "execution_count": null,
   "id": "2e79527e",
   "metadata": {},
   "outputs": [],
   "source": [
    "def remove_duplicates(nums):\n",
    "    if not nums:\n",
    "        return 0\n",
    "\n",
    "    index = 1\n",
    "    for i in range(1, len(nums)):\n",
    "        if nums[i] != nums[i - 1]:\n",
    "            nums[index] = nums[i]\n",
    "            index += 1\n",
    "\n",
    "    return index\n",
    "\n",
    "nums = [1, 1, 2, 2, 2, 3, 4, 4, 5]\n",
    "length = remove_duplicates(nums)\n",
    "print(nums[:length])\n"
   ]
  }
 ],
 "metadata": {
  "kernelspec": {
   "display_name": "Python 3 (ipykernel)",
   "language": "python",
   "name": "python3"
  },
  "language_info": {
   "codemirror_mode": {
    "name": "ipython",
    "version": 3
   },
   "file_extension": ".py",
   "mimetype": "text/x-python",
   "name": "python",
   "nbconvert_exporter": "python",
   "pygments_lexer": "ipython3",
   "version": "3.11.4"
  }
 },
 "nbformat": 4,
 "nbformat_minor": 5
}
