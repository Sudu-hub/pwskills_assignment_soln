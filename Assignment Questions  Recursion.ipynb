{
 "cells": [
  {
   "cell_type": "markdown",
   "id": "b6acba49",
   "metadata": {},
   "source": [
    "# Q.1 Can you explain the logic and working of the Tower of Hanoi algorithm by writing a python program? How does the recursion work, and how are the movements of disks between rods accomplished?"
   ]
  },
  {
   "cell_type": "raw",
   "id": "e92ecf7c",
   "metadata": {},
   "source": [
    "The Tower of Hanoi problem is a classic puzzle that involves three rods \n",
    "and a number of disks of different sizes which can slide onto any rod. \n",
    "The puzzle starts with the disks stacked in ascending order of size on one rod, \n",
    "with the smallest disk on top, making a conical shape. The objective is to move t\n",
    "he entire stack to another rod, obeying the following rules:\n",
    "\n",
    "1] Only one disk can be moved at a time.\n",
    "\n",
    "2] Each move consists of taking the top disk from one of the stacks and placing it on top of another stack.\n",
    "\n",
    "3] No disk may be placed on top of a smaller disk.\n",
    "\n",
    "4] The solution to this problem can be achieved using recursion. Here's how it works:\n",
    "\n",
    "5] Move n-1 disks from the source rod to the auxiliary rod, using the destination rod as a temporary rod.\n",
    "\n",
    "6] Move the nth disk from the source rod to the destination rod.\n",
    "\n",
    "7] Move the n-1 disks from the auxiliary rod to the destination rod, using the source rod as a temporary rod."
   ]
  },
  {
   "cell_type": "code",
   "execution_count": 1,
   "id": "365118d8",
   "metadata": {},
   "outputs": [
    {
     "name": "stdout",
     "output_type": "stream",
     "text": [
      "Move disk 1 from rod A to rod C\n",
      "Move disk 2 from rod A to rod B\n",
      "Move disk 1 from rod C to rod B\n",
      "Move disk 3 from rod A to rod C\n",
      "Move disk 1 from rod B to rod A\n",
      "Move disk 2 from rod B to rod C\n",
      "Move disk 1 from rod A to rod C\n"
     ]
    }
   ],
   "source": [
    "def tower_of_hanoi(n, source, destination, auxiliary):\n",
    "    if n == 1:\n",
    "        print(\"Move disk 1 from rod\", source, \"to rod\", destination)\n",
    "        return\n",
    "    tower_of_hanoi(n-1, source, auxiliary, destination)\n",
    "    print(\"Move disk\", n, \"from rod\", source, \"to rod\", destination)\n",
    "    tower_of_hanoi(n-1, auxiliary, destination, source)\n",
    "\n",
    "n = 3 \n",
    "tower_of_hanoi(n, 'A', 'C', 'B')  "
   ]
  },
  {
   "cell_type": "markdown",
   "id": "e343ec28",
   "metadata": {},
   "source": [
    "# Q.2 Given two strings word1 and word2, return the minimum number of operations required to convert word1"
   ]
  },
  {
   "cell_type": "raw",
   "id": "899a01be",
   "metadata": {},
   "source": [
    "Example 1:\n",
    "Input: word1 = \"horse\", word2 = \"ros\"\n",
    "Output: 3\n",
    "Explanation:\n",
    "horse -> rorse (replace 'h' with 'r')\n",
    "rorse -> rose (remove 'r')\n",
    "rose -> ros (remove 'e')\n",
    "Example 2:\n",
    "Input: word1 = \"intention\", word2 = \"execution\"\n",
    "Output: 5\n",
    "Explanation:\n",
    "intention -> inention (remove 't')\n",
    "inention -> enention (replace 'i' with 'e')\n",
    "enention -> exention (replace 'n' with 'x')\n",
    "exention -> exection (replace 'n' with 'c')\n",
    "exection -> execution (insert 'u')"
   ]
  },
  {
   "cell_type": "code",
   "execution_count": 5,
   "id": "d21b3a47",
   "metadata": {},
   "outputs": [
    {
     "name": "stdout",
     "output_type": "stream",
     "text": [
      "3\n",
      "5\n"
     ]
    }
   ],
   "source": [
    "def minDistance(word1, word2):\n",
    "    def helper(i, j):\n",
    "        if i == 0:\n",
    "            return j\n",
    "        if j == 0:\n",
    "            return i\n",
    "        \n",
    "        if word1[i - 1] == word2[j - 1]:\n",
    "            return helper(i - 1, j - 1)\n",
    "        \n",
    "        insert = helper(i, j - 1) + 1\n",
    "        delete = helper(i - 1, j) + 1\n",
    "        replace = helper(i - 1, j - 1) + 1\n",
    "        \n",
    "        return min(insert, delete, replace)\n",
    "    \n",
    "    return helper(len(word1), len(word2))\n",
    "\n",
    "word1 = \"horse\"\n",
    "word2 = \"ros\"\n",
    "print(minDistance(word1, word2)) \n",
    "\n",
    "word1 = \"intention\"\n",
    "word2 = \"execution\"\n",
    "print(minDistance(word1, word2))\n"
   ]
  },
  {
   "cell_type": "markdown",
   "id": "3a78873b",
   "metadata": {},
   "source": [
    "# Q. 3 Print the max value of the array [ 13, 1, -3, 22, 5]."
   ]
  },
  {
   "cell_type": "code",
   "execution_count": 2,
   "id": "e43c1e43",
   "metadata": {},
   "outputs": [
    {
     "name": "stdout",
     "output_type": "stream",
     "text": [
      "The maximum value in the array is: 22\n"
     ]
    }
   ],
   "source": [
    "def find_max(arr, n):\n",
    "    if n == 1:\n",
    "        return arr[0]\n",
    "    \n",
    "    max_of_subarray = find_max(arr, n - 1)\n",
    "    return max(max_of_subarray, arr[n - 1])\n",
    "\n",
    "array = [13, 1, -3, 22, 5]\n",
    "max_value = find_max(array, len(array))\n",
    "print(\"The maximum value in the array is:\", max_value)\n"
   ]
  },
  {
   "cell_type": "markdown",
   "id": "b1f3b48a",
   "metadata": {},
   "source": [
    "# Q.4 Find the sum of the values of the array [92, 23, 15, -20, 10]."
   ]
  },
  {
   "cell_type": "code",
   "execution_count": 4,
   "id": "b0f3004c",
   "metadata": {},
   "outputs": [
    {
     "name": "stdout",
     "output_type": "stream",
     "text": [
      "92\n"
     ]
    }
   ],
   "source": [
    "def sumofarray(arr):\n",
    "    l = len(arr)\n",
    "    if l<=1:\n",
    "        return arr[0]\n",
    "    \n",
    "    count = 0\n",
    "    count = count + arr[0]\n",
    "    \n",
    "    output = sumofarray(arr[1:])\n",
    "    return count\n",
    "arr = [92, 23, 15, -20, 10]\n",
    "ans = sumofarray(arr)\n",
    "print(ans)"
   ]
  },
  {
   "cell_type": "code",
   "execution_count": null,
   "id": "14591885",
   "metadata": {},
   "outputs": [],
   "source": []
  }
 ],
 "metadata": {
  "kernelspec": {
   "display_name": "Python 3 (ipykernel)",
   "language": "python",
   "name": "python3"
  },
  "language_info": {
   "codemirror_mode": {
    "name": "ipython",
    "version": 3
   },
   "file_extension": ".py",
   "mimetype": "text/x-python",
   "name": "python",
   "nbconvert_exporter": "python",
   "pygments_lexer": "ipython3",
   "version": "3.11.4"
  }
 },
 "nbformat": 4,
 "nbformat_minor": 5
}
