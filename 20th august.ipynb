{
 "cells": [
  {
   "cell_type": "markdown",
   "id": "a8c1cb46",
   "metadata": {},
   "source": [
    "# TOPIC: String Based Assignment Problem"
   ]
  },
  {
   "cell_type": "markdown",
   "id": "5ba7e2b8",
   "metadata": {},
   "source": [
    "# 1. Write a program to reverse a string."
   ]
  },
  {
   "cell_type": "code",
   "execution_count": 4,
   "id": "2c056b0b",
   "metadata": {},
   "outputs": [
    {
     "name": "stdout",
     "output_type": "stream",
     "text": [
      "enter the string name:pwskill\n",
      "the reverse string is a: llikswp\n"
     ]
    }
   ],
   "source": [
    "string = input('enter the string name:') # user input\n",
    "\n",
    "print('the reverse string is a:',string[::-1]) # using slicing i'll be a reverse a string"
   ]
  },
  {
   "cell_type": "markdown",
   "id": "b016659d",
   "metadata": {},
   "source": [
    "# 2. Check if a string is a palindrome."
   ]
  },
  {
   "cell_type": "code",
   "execution_count": 6,
   "id": "93aed12a",
   "metadata": {},
   "outputs": [
    {
     "name": "stdout",
     "output_type": "stream",
     "text": [
      "enter the string:nayan\n",
      "True\n"
     ]
    }
   ],
   "source": [
    "string = input('enter the string:') # get input from user\n",
    "\n",
    "reverse_string = string[::-1] # reverse string\n",
    "\n",
    "print(string == reverse_string) # if string is palindrome then we pring true and false"
   ]
  },
  {
   "cell_type": "markdown",
   "id": "4fe96ba8",
   "metadata": {},
   "source": [
    "# 3. Convert a string to uppercase."
   ]
  },
  {
   "cell_type": "code",
   "execution_count": 10,
   "id": "bd3bd3f1",
   "metadata": {},
   "outputs": [
    {
     "name": "stdout",
     "output_type": "stream",
     "text": [
      "enter the string:pwskill\n",
      "converting the string uppercase: PWSKILL\n"
     ]
    }
   ],
   "source": [
    "string = input('enter the string:') # get input from user\n",
    "\n",
    "print('converting the string uppercase:',string.upper()) # using upper function, converting the string uppercase"
   ]
  },
  {
   "cell_type": "markdown",
   "id": "d50a8a21",
   "metadata": {},
   "source": [
    "# 4. Convert a string to lowercase."
   ]
  },
  {
   "cell_type": "code",
   "execution_count": 12,
   "id": "4f74f290",
   "metadata": {},
   "outputs": [
    {
     "name": "stdout",
     "output_type": "stream",
     "text": [
      "enter the string:PWSKILL\n",
      "converting the string uppercase: pwskill\n"
     ]
    }
   ],
   "source": [
    "string = input('enter the string:') # get input from user\n",
    "\n",
    "print('converting the string uppercase:',string.lower()) # using upper function, converting the string lowercase"
   ]
  },
  {
   "cell_type": "markdown",
   "id": "b4ba72d5",
   "metadata": {},
   "source": [
    "# 5. Count the number of vowels in a string."
   ]
  },
  {
   "cell_type": "code",
   "execution_count": 21,
   "id": "fb2bfc15",
   "metadata": {},
   "outputs": [
    {
     "name": "stdout",
     "output_type": "stream",
     "text": [
      "enter the string:adjfie\n",
      "the count of vowels is: 3\n"
     ]
    }
   ],
   "source": [
    "string = input('enter the string:') # get input from user\n",
    "string1 = string.lower() # using lower function we convert the string into lowercase\n",
    "vowels = 'aeiou'\n",
    "count = 0 # count variable to store the count the vowels in the string\n",
    "\n",
    "for i in string1:\n",
    "    if i in vowels:\n",
    "        count = count + 1\n",
    "\n",
    "print('the count of vowels is:',count)"
   ]
  },
  {
   "cell_type": "markdown",
   "id": "de5957ae",
   "metadata": {},
   "source": [
    "# 6. Count the number of consonants in a string."
   ]
  },
  {
   "cell_type": "code",
   "execution_count": 23,
   "id": "c809d61b",
   "metadata": {},
   "outputs": [
    {
     "name": "stdout",
     "output_type": "stream",
     "text": [
      "enter the string:asroutudjl\n",
      "the count of consonants is: 6\n"
     ]
    }
   ],
   "source": [
    "string = input('enter the string:') # get input from user\n",
    "string1 = string.lower() # using lower function we convert the string into lowercase\n",
    "vowels = 'aeiou'\n",
    "count = 0 # count variable to store the count the vowels in the string\n",
    "\n",
    "for i in string1:\n",
    "    if i not in vowels:\n",
    "        count = count + 1\n",
    "\n",
    "print('the count of consonants is:',count)"
   ]
  },
  {
   "cell_type": "markdown",
   "id": "c409f1ae",
   "metadata": {},
   "source": [
    "# 7. Remove all whitespaces from a string."
   ]
  },
  {
   "cell_type": "code",
   "execution_count": 29,
   "id": "9c0f17c3",
   "metadata": {},
   "outputs": [
    {
     "name": "stdout",
     "output_type": "stream",
     "text": [
      "enter the string:i am nervous to analysing some data\n",
      "Removing the whitespaces of the string: iamnervoustoanalysingsomedata\n"
     ]
    }
   ],
   "source": [
    "string = input('enter the string:') # get input from user\n",
    "\n",
    "print(\"Removing the whitespaces of the string:\",''.join(string.split())) # using join and split we remove the spaces"
   ]
  },
  {
   "cell_type": "markdown",
   "id": "11378eac",
   "metadata": {},
   "source": [
    "# 8. Find the length of a string without using the `len()` function."
   ]
  },
  {
   "cell_type": "code",
   "execution_count": 38,
   "id": "e8531535",
   "metadata": {},
   "outputs": [
    {
     "name": "stdout",
     "output_type": "stream",
     "text": [
      "enter the string:pwskill\n",
      "the length of the string is: 7\n"
     ]
    }
   ],
   "source": [
    "string = input('enter the string:') # get input from user\n",
    "count = 0\n",
    "\n",
    "for i in string:\n",
    "    count = count + 1\n",
    "    \n",
    "print('the length of the string is:',count)"
   ]
  },
  {
   "cell_type": "markdown",
   "id": "6c4537b4",
   "metadata": {},
   "source": [
    "# 9. Check if a string contains a specific word."
   ]
  },
  {
   "cell_type": "code",
   "execution_count": 39,
   "id": "6d32daae",
   "metadata": {},
   "outputs": [
    {
     "name": "stdout",
     "output_type": "stream",
     "text": [
      "enter the word:sudarshan\n",
      "enter the searching word:su\n",
      "the search word not containg is: su\n"
     ]
    }
   ],
   "source": [
    "word = input('enter the word:')\n",
    "search_word = input('enter the searching word:')\n",
    "\n",
    "if word in search_word:\n",
    "    print('the search word contains is:',search_word)\n",
    "else:\n",
    "    print('the search word not containg is:',search_word)"
   ]
  },
  {
   "cell_type": "markdown",
   "id": "8711e5df",
   "metadata": {},
   "source": [
    "# 10. Replace a word in a string with another word."
   ]
  },
  {
   "cell_type": "code",
   "execution_count": 42,
   "id": "5cdc29a2",
   "metadata": {},
   "outputs": [
    {
     "name": "stdout",
     "output_type": "stream",
     "text": [
      "enter the string:sudarshan\n",
      "enter the replacing string:sudar\n",
      "enter the relacing word over the replacing over the string:suda\n",
      "Replace a word in a string another word is: sudashan\n"
     ]
    }
   ],
   "source": [
    "string = input('enter the string:')\n",
    "\n",
    "string1 = input('enter the replacing string:')\n",
    "string2 = input('enter the relacing word over the replacing over the string:')\n",
    "\n",
    "print(\"Replace a word in a string another word is:\",string.replace(string1,string2))"
   ]
  },
  {
   "cell_type": "markdown",
   "id": "d3c8311b",
   "metadata": {},
   "source": [
    "# 11. Count the occurrences of a word in a string."
   ]
  },
  {
   "cell_type": "code",
   "execution_count": null,
   "id": "efecb9fe",
   "metadata": {},
   "outputs": [],
   "source": []
  }
 ],
 "metadata": {
  "kernelspec": {
   "display_name": "Python 3 (ipykernel)",
   "language": "python",
   "name": "python3"
  },
  "language_info": {
   "codemirror_mode": {
    "name": "ipython",
    "version": 3
   },
   "file_extension": ".py",
   "mimetype": "text/x-python",
   "name": "python",
   "nbconvert_exporter": "python",
   "pygments_lexer": "ipython3",
   "version": "3.11.4"
  }
 },
 "nbformat": 4,
 "nbformat_minor": 5
}
