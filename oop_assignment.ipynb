{
 "cells": [
  {
   "cell_type": "markdown",
   "id": "47410c27",
   "metadata": {},
   "source": [
    "# Problem 1: Bank Account Create a class representing a bank account with attributes like account number, account holder name, and balance. Implement methods to deposit and withdraw money from the account."
   ]
  },
  {
   "cell_type": "code",
   "execution_count": 1,
   "id": "64d4a11e",
   "metadata": {},
   "outputs": [],
   "source": [
    "class Bank_Account:\n",
    "    \n",
    "    def __init__(self,Acc_number,Acc_holder_name, balance):\n",
    "        self.Account_number = Acc_number,\n",
    "        self.Account_holder_name = Acc_holder_name,\n",
    "        self.balance = balance\n",
    "    \n",
    "    # Methods of deposite\n",
    "    \n",
    "    def deposit(self):\n",
    "        deposite = int(input('enter the amount:'))\n",
    "        self.balance = self.balance + deposite\n",
    "        print('deposit amount of user is:',deposite)\n",
    "        print('Total balance of user is:',self.balance)\n",
    "    \n",
    "    # withdrawing of amount\n",
    "    \n",
    "    def withdraw(self):\n",
    "        withdraw = int(input('enter the amount:'))\n",
    "        self.balance = self.balance - withdraw\n",
    "        print('withdrawing amount of user is:',withdraw)\n",
    "        print('Total balance of user is:',self.balance)"
   ]
  },
  {
   "cell_type": "code",
   "execution_count": 5,
   "id": "fd1a6351",
   "metadata": {},
   "outputs": [],
   "source": [
    "user1 = Bank_Account('sudarshan','12345',800)"
   ]
  },
  {
   "cell_type": "code",
   "execution_count": 6,
   "id": "078101ce",
   "metadata": {},
   "outputs": [
    {
     "name": "stdout",
     "output_type": "stream",
     "text": [
      "enter the amount:200\n",
      "deposit amount of user is: 200\n",
      "Total balance of user is: 1000\n"
     ]
    }
   ],
   "source": [
    "user1.deposit()"
   ]
  },
  {
   "cell_type": "code",
   "execution_count": 7,
   "id": "b3f8cb9b",
   "metadata": {},
   "outputs": [
    {
     "name": "stdout",
     "output_type": "stream",
     "text": [
      "enter the amount:300\n",
      "withdrawing amount of user is: 300\n",
      "Total balance of user is: 700\n"
     ]
    }
   ],
   "source": [
    "user1.withdraw()"
   ]
  },
  {
   "cell_type": "markdown",
   "id": "764dd414",
   "metadata": {},
   "source": [
    "# Problem 2: Employee Management Create a class representing an employee with attributes like employee ID, name, and salary. Implement methods to calculate the yearly bonus and display employee details.\n"
   ]
  },
  {
   "cell_type": "code",
   "execution_count": 14,
   "id": "a63a7fcc",
   "metadata": {},
   "outputs": [],
   "source": [
    "class employee:\n",
    "    \n",
    "    def __init__(self,emp_id, name, salary):\n",
    "        self.emp_id = emp_id\n",
    "        self.name = name\n",
    "        self.salary = salary\n",
    "        \n",
    "    # bonus of the employees\n",
    "    \n",
    "    def bonus(self):\n",
    "        bonuss = int(input('enter the amount:'))\n",
    "        self.salary = self.salary + bonuss\n",
    "        print('Id of emloyee is:',self.emp_id)\n",
    "        print('Name of employee is:',self.name)\n",
    "        print('yearly bonus is:',bonuss)\n",
    "        print('emp salary is:',self.salary)"
   ]
  },
  {
   "cell_type": "code",
   "execution_count": 15,
   "id": "281ca8c7",
   "metadata": {},
   "outputs": [],
   "source": [
    "emp = employee('123e','sudarshan',2000000)"
   ]
  },
  {
   "cell_type": "code",
   "execution_count": 16,
   "id": "115e5777",
   "metadata": {},
   "outputs": [
    {
     "name": "stdout",
     "output_type": "stream",
     "text": [
      "enter the amount:300000\n",
      "Id of emloyee is: 123e\n",
      "Name of employee is: sudarshan\n",
      "yearly bonus is: 300000\n",
      "emp salary is: 2300000\n"
     ]
    }
   ],
   "source": [
    "emp.bonus()"
   ]
  },
  {
   "cell_type": "markdown",
   "id": "fef6d5fb",
   "metadata": {},
   "source": [
    "# Problem 3: Vehicle Rental Create a class representing a vehicle rental system. Implement methods to rent a vehicle, return a vehicle, and display available vehicles."
   ]
  },
  {
   "cell_type": "code",
   "execution_count": 1,
   "id": "e6796208",
   "metadata": {},
   "outputs": [
    {
     "name": "stdout",
     "output_type": "stream",
     "text": [
      "Available Vehicles:\n",
      "Sedan (ID: 1) - Available\n",
      "SUV (ID: 2) - Available\n",
      "Truck (ID: 3) - Available\n",
      "Vehicle 2 rented successfully.\n",
      "\n",
      "Available Vehicles:\n",
      "Sedan (ID: 1) - Available\n",
      "Truck (ID: 3) - Available\n",
      "Vehicle 2 returned successfully.\n",
      "\n",
      "Available Vehicles:\n",
      "Sedan (ID: 1) - Available\n",
      "SUV (ID: 2) - Available\n",
      "Truck (ID: 3) - Available\n"
     ]
    }
   ],
   "source": [
    "class Vehicle:\n",
    "    def __init__(self, vehicle_id, model, is_available=True):\n",
    "        self.vehicle_id = vehicle_id\n",
    "        self.model = model\n",
    "        self.is_available = is_available\n",
    "\n",
    "    def __str__(self):\n",
    "        availability = \"Available\" if self.is_available else \"Not Available\"\n",
    "        return f\"{self.model} (ID: {self.vehicle_id}) - {availability}\"\n",
    "\n",
    "class VehicleRentalSystem:\n",
    "    def __init__(self):\n",
    "        self.vehicles = []\n",
    "\n",
    "    def add_vehicle(self, vehicle_id, model):\n",
    "        vehicle = Vehicle(vehicle_id, model)\n",
    "        self.vehicles.append(vehicle)\n",
    "\n",
    "    def rent_vehicle(self, vehicle_id):\n",
    "        for vehicle in self.vehicles:\n",
    "            if vehicle.vehicle_id == vehicle_id and vehicle.is_available:\n",
    "                vehicle.is_available = False\n",
    "                return f\"Vehicle {vehicle_id} rented successfully.\"\n",
    "        return f\"Vehicle {vehicle_id} not available for rent.\"\n",
    "\n",
    "    def return_vehicle(self, vehicle_id):\n",
    "        for vehicle in self.vehicles:\n",
    "            if vehicle.vehicle_id == vehicle_id and not vehicle.is_available:\n",
    "                vehicle.is_available = True\n",
    "                return f\"Vehicle {vehicle_id} returned successfully.\"\n",
    "        return f\"Invalid return. Vehicle {vehicle_id} was not rented or does not exist.\"\n",
    "\n",
    "    def display_available_vehicles(self):\n",
    "        available_vehicles = [vehicle for vehicle in self.vehicles if vehicle.is_available]\n",
    "        if available_vehicles:\n",
    "            return \"\\n\".join(map(str, available_vehicles))\n",
    "        else:\n",
    "            return \"No vehicles available.\"\n",
    "\n",
    "# Example usage:\n",
    "rental_system = VehicleRentalSystem()\n",
    "\n",
    "# Adding vehicles to the system\n",
    "rental_system.add_vehicle(1, \"Sedan\")\n",
    "rental_system.add_vehicle(2, \"SUV\")\n",
    "rental_system.add_vehicle(3, \"Truck\")\n",
    "\n",
    "# Display available vehicles\n",
    "print(\"Available Vehicles:\")\n",
    "print(rental_system.display_available_vehicles())\n",
    "\n",
    "# Rent a vehicle\n",
    "print(rental_system.rent_vehicle(2))\n",
    "\n",
    "# Display available vehicles after renting\n",
    "print(\"\\nAvailable Vehicles:\")\n",
    "print(rental_system.display_available_vehicles())\n",
    "\n",
    "# Return the rented vehicle\n",
    "print(rental_system.return_vehicle(2))\n",
    "\n",
    "# Display available vehicles after returning\n",
    "print(\"\\nAvailable Vehicles:\")\n",
    "print(rental_system.display_available_vehicles())\n"
   ]
  },
  {
   "cell_type": "markdown",
   "id": "ce1d5179",
   "metadata": {},
   "source": [
    "# Problem 4: Library Catalog Create classes representing a library and a book. Implement methods to add books to the library, borrow books, and display available books."
   ]
  },
  {
   "cell_type": "code",
   "execution_count": 1,
   "id": "503a29e4",
   "metadata": {},
   "outputs": [
    {
     "name": "stdout",
     "output_type": "stream",
     "text": [
      "Available books in the library:\n",
      "Harry Potter and the Sorcerer's Stone by J.K. Rowling\n",
      "To Kill a Mockingbird by Harper Lee\n",
      "The Great Gatsby by F. Scott Fitzgerald\n",
      "You have borrowed 'To Kill a Mockingbird'. Enjoy reading!\n",
      "Sorry, this book is already borrowed.\n",
      "Sorry, that book is not available in the library.\n",
      "Available books in the library:\n",
      "Harry Potter and the Sorcerer's Stone by J.K. Rowling\n",
      "The Great Gatsby by F. Scott Fitzgerald\n",
      "Thank you for returning 'To Kill a Mockingbird'.\n",
      "Sorry, that book is not found in the library.\n",
      "Available books in the library:\n",
      "Harry Potter and the Sorcerer's Stone by J.K. Rowling\n",
      "To Kill a Mockingbird by Harper Lee\n",
      "The Great Gatsby by F. Scott Fitzgerald\n"
     ]
    }
   ],
   "source": [
    "class Book:\n",
    "    def __init__(self, title, author):\n",
    "        self.title = title\n",
    "        self.author = author\n",
    "        self.borrowed = False\n",
    "\n",
    "    def __str__(self):\n",
    "        return f\"{self.title} by {self.author}\"\n",
    "\n",
    "    def is_borrowed(self):\n",
    "        return self.borrowed\n",
    "\n",
    "    def borrow(self):\n",
    "        if not self.borrowed:\n",
    "            self.borrowed = True\n",
    "            return True\n",
    "        else:\n",
    "            print(\"Sorry, this book is already borrowed.\")\n",
    "            return False\n",
    "\n",
    "    def return_book(self):\n",
    "        self.borrowed = False\n",
    "\n",
    "\n",
    "class Library:\n",
    "    def __init__(self):\n",
    "        self.books = []\n",
    "\n",
    "    def add_book(self, book):\n",
    "        self.books.append(book)\n",
    "\n",
    "    def borrow_book(self, title):\n",
    "        for book in self.books:\n",
    "            if book.title.lower() == title.lower():\n",
    "                if book.borrow():\n",
    "                    print(f\"You have borrowed '{book.title}'. Enjoy reading!\")\n",
    "                return\n",
    "        print(\"Sorry, that book is not available in the library.\")\n",
    "\n",
    "    def return_book(self, title):\n",
    "        for book in self.books:\n",
    "            if book.title.lower() == title.lower():\n",
    "                book.return_book()\n",
    "                print(f\"Thank you for returning '{book.title}'.\")\n",
    "                return\n",
    "        print(\"Sorry, that book is not found in the library.\")\n",
    "\n",
    "    def display_available_books(self):\n",
    "        if len(self.books) == 0:\n",
    "            print(\"There are no books in the library.\")\n",
    "        else:\n",
    "            print(\"Available books in the library:\")\n",
    "            for book in self.books:\n",
    "                if not book.is_borrowed():\n",
    "                    print(book)\n",
    "\n",
    "\n",
    "# Example usage:\n",
    "if __name__ == \"__main__\":\n",
    "    library = Library()\n",
    "\n",
    "    book1 = Book(\"Harry Potter and the Sorcerer's Stone\", \"J.K. Rowling\")\n",
    "    book2 = Book(\"To Kill a Mockingbird\", \"Harper Lee\")\n",
    "    book3 = Book(\"The Great Gatsby\", \"F. Scott Fitzgerald\")\n",
    "\n",
    "    library.add_book(book1)\n",
    "    library.add_book(book2)\n",
    "    library.add_book(book3)\n",
    "\n",
    "    library.display_available_books()\n",
    "\n",
    "    library.borrow_book(\"To Kill a Mockingbird\")\n",
    "    library.borrow_book(\"To Kill a Mockingbird\")  # Trying to borrow the same book again\n",
    "    library.borrow_book(\"The Catcher in the Rye\")  # Trying to borrow a non-existent book\n",
    "\n",
    "    library.display_available_books()\n",
    "\n",
    "    library.return_book(\"To Kill a Mockingbird\")\n",
    "    library.return_book(\"The Catcher in the Rye\")  # Trying to return a non-existent book\n",
    "\n",
    "    library.display_available_books()\n"
   ]
  },
  {
   "cell_type": "markdown",
   "id": "1a58be85",
   "metadata": {},
   "source": [
    "# Problem 5: Product Inventory Create classes representing a product and an inventory system. Implement methods to add products to the inventory, update product quantity, and display available products."
   ]
  },
  {
   "cell_type": "code",
   "execution_count": 2,
   "id": "181c0739",
   "metadata": {},
   "outputs": [
    {
     "name": "stdout",
     "output_type": "stream",
     "text": [
      "Available products in inventory:\n",
      "Laptop - Price: $1200, Quantity: 10\n",
      "Mouse - Price: $20, Quantity: 50\n",
      "Keyboard - Price: $50, Quantity: 30\n",
      "Quantity of Laptop updated to 8.\n",
      "Quantity of Mouse updated to 45.\n",
      "Product not found in inventory.\n",
      "Available products in inventory:\n",
      "Laptop - Price: $1200, Quantity: 8\n",
      "Mouse - Price: $20, Quantity: 45\n",
      "Keyboard - Price: $50, Quantity: 30\n"
     ]
    }
   ],
   "source": [
    "class Product:\n",
    "    def __init__(self, name, price, quantity):\n",
    "        self.name = name\n",
    "        self.price = price\n",
    "        self.quantity = quantity\n",
    "\n",
    "    def __str__(self):\n",
    "        return f\"{self.name} - Price: ${self.price}, Quantity: {self.quantity}\"\n",
    "\n",
    "    def update_quantity(self, new_quantity):\n",
    "        self.quantity = new_quantity\n",
    "\n",
    "\n",
    "class Inventory:\n",
    "    def __init__(self):\n",
    "        self.products = []\n",
    "\n",
    "    def add_product(self, product):\n",
    "        self.products.append(product)\n",
    "\n",
    "    def update_product_quantity(self, product_name, new_quantity):\n",
    "        for product in self.products:\n",
    "            if product.name.lower() == product_name.lower():\n",
    "                product.update_quantity(new_quantity)\n",
    "                print(f\"Quantity of {product_name} updated to {new_quantity}.\")\n",
    "                return\n",
    "        print(\"Product not found in inventory.\")\n",
    "\n",
    "    def display_available_products(self):\n",
    "        if len(self.products) == 0:\n",
    "            print(\"Inventory is empty.\")\n",
    "        else:\n",
    "            print(\"Available products in inventory:\")\n",
    "            for product in self.products:\n",
    "                print(product)\n",
    "\n",
    "\n",
    "# Example usage:\n",
    "if __name__ == \"__main__\":\n",
    "    inventory = Inventory()\n",
    "\n",
    "    product1 = Product(\"Laptop\", 1200, 10)\n",
    "    product2 = Product(\"Mouse\", 20, 50)\n",
    "    product3 = Product(\"Keyboard\", 50, 30)\n",
    "\n",
    "    inventory.add_product(product1)\n",
    "    inventory.add_product(product2)\n",
    "    inventory.add_product(product3)\n",
    "\n",
    "    inventory.display_available_products()\n",
    "\n",
    "    inventory.update_product_quantity(\"Laptop\", 8)\n",
    "    inventory.update_product_quantity(\"Mouse\", 45)\n",
    "    inventory.update_product_quantity(\"Monitor\", 15)  # Trying to update a non-existent product\n",
    "\n",
    "    inventory.display_available_products()\n"
   ]
  },
  {
   "cell_type": "markdown",
   "id": "587532e7",
   "metadata": {},
   "source": [
    "# Problem 6: Shape Calculation Create a class representing a shape with attributes like length, width, and height. Implement methods to calculate the area and perimeter of the shape."
   ]
  },
  {
   "cell_type": "code",
   "execution_count": 3,
   "id": "114c97ea",
   "metadata": {},
   "outputs": [
    {
     "name": "stdout",
     "output_type": "stream",
     "text": [
      "Circle Area: 50.26548245743669\n",
      "Circle Circumference: 25.132741228718345\n"
     ]
    }
   ],
   "source": [
    "class Shape:\n",
    "    def __init__(self, length, width=None, height=None):\n",
    "        self.length = length\n",
    "        self.width = width\n",
    "        self.height = height\n",
    "\n",
    "    def area(self):\n",
    "        raise NotImplementedError(\"Area calculation not implemented for generic shape.\")\n",
    "\n",
    "    def perimeter(self):\n",
    "        raise NotImplementedError(\"Perimeter calculation not implemented for generic shape.\")\n",
    "\n",
    "class Circle(Shape):\n",
    "    def __init__(self, radius):\n",
    "        super().__init__(radius)\n",
    "\n",
    "    def area(self):\n",
    "        import math\n",
    "        return math.pi * self.length ** 2\n",
    "\n",
    "    def perimeter(self):\n",
    "        import math\n",
    "        return 2 * math.pi * self.length\n",
    "\n",
    "\n",
    "# Example usage:\n",
    "if __name__ == \"__main__\":\n",
    "\n",
    "    circle = Circle(4)\n",
    "    print(\"Circle Area:\", circle.area())\n",
    "    print(\"Circle Circumference:\", circle.perimeter())\n"
   ]
  },
  {
   "cell_type": "markdown",
   "id": "d71c6957",
   "metadata": {},
   "source": [
    "# Problem 7: Student Management Create a class representing a student with attributes like student ID, name, and grades. Implement methods to calculate the average grade and display student details."
   ]
  },
  {
   "cell_type": "code",
   "execution_count": 9,
   "id": "d006a73d",
   "metadata": {},
   "outputs": [
    {
     "name": "stdout",
     "output_type": "stream",
     "text": [
      "Student 1 Details:\n",
      "Student ID: 1\n",
      "Name: sudarshan\n",
      "Grades: [85, 90, 92, 88, 95]\n",
      "Average Grade: 90.0\n",
      "\n",
      "Student 2 Details:\n",
      "Student ID: 2\n",
      "Name: vinit\n",
      "Grades: [78, 82, 80, 75, 79]\n",
      "Average Grade: 78.8\n"
     ]
    }
   ],
   "source": [
    "class Student:\n",
    "    def __init__(self, student_id, name, grades):\n",
    "        self.student_id = student_id\n",
    "        self.name = name\n",
    "        self.grades = grades\n",
    "\n",
    "    def calculate_average_grade(self):\n",
    "        if not self.grades:\n",
    "            return 0\n",
    "        return sum(self.grades) / len(self.grades)\n",
    "\n",
    "    def display_details(self):\n",
    "        print(\"Student ID:\", self.student_id)\n",
    "        print(\"Name:\", self.name)\n",
    "        print(\"Grades:\", self.grades)\n",
    "        print(\"Average Grade:\", self.calculate_average_grade())\n",
    "\n",
    "\n",
    "# Example usage:\n",
    "if __name__ == \"__main__\":\n",
    "    student1 = Student(1, \"sudarshan\", [85, 90, 92, 88, 95])\n",
    "    student2 = Student(2, \"vinit\", [78, 82, 80, 75, 79])\n",
    "\n",
    "    print(\"Student 1 Details:\")\n",
    "    student1.display_details()\n",
    "    print(\"\\nStudent 2 Details:\")\n",
    "    student2.display_details()\n"
   ]
  },
  {
   "cell_type": "markdown",
   "id": "840f0c3c",
   "metadata": {},
   "source": [
    "# Problem 8: Email Management Create a class representing an email with attributes like sender, recipient, and subject. Implement methods to send an email and display email details."
   ]
  },
  {
   "cell_type": "code",
   "execution_count": null,
   "id": "fcb2dc1b",
   "metadata": {},
   "outputs": [],
   "source": []
  }
 ],
 "metadata": {
  "kernelspec": {
   "display_name": "Python 3 (ipykernel)",
   "language": "python",
   "name": "python3"
  },
  "language_info": {
   "codemirror_mode": {
    "name": "ipython",
    "version": 3
   },
   "file_extension": ".py",
   "mimetype": "text/x-python",
   "name": "python",
   "nbconvert_exporter": "python",
   "pygments_lexer": "ipython3",
   "version": "3.11.4"
  }
 },
 "nbformat": 4,
 "nbformat_minor": 5
}
